{
  "cells": [
    {
      "cell_type": "code",
      "execution_count": 3,
      "metadata": {
        "colab": {
          "base_uri": "https://localhost:8080/"
        },
        "id": "nflSP0gMTF1e",
        "outputId": "a37a99a9-3894-448a-f8cb-59ead4dd8466"
      },
      "outputs": [
        {
          "name": "stdout",
          "output_type": "stream",
          "text": [
            "Requirement already satisfied: pytesseract in /home/moise/.local/lib/python3.8/site-packages (0.3.10)\n",
            "Requirement already satisfied: Pillow>=8.0.0 in /home/moise/.local/lib/python3.8/site-packages (from pytesseract) (9.4.0)\n",
            "Requirement already satisfied: packaging>=21.3 in /home/moise/.local/lib/python3.8/site-packages (from pytesseract) (23.0)\n"
          ]
        }
      ],
      "source": [
        "!pip install pytesseract"
      ]
    },
    {
      "cell_type": "code",
      "execution_count": 2,
      "metadata": {
        "colab": {
          "base_uri": "https://localhost:8080/"
        },
        "id": "IgQsK5gXWd67",
        "outputId": "f75c87bd-2f28-4f77-d8ed-064b7335957e"
      },
      "outputs": [
        {
          "name": "stdout",
          "output_type": "stream",
          "text": [
            "[sudo] password for moise: \n"
          ]
        }
      ],
      "source": [
        "!sudo apt install tesseract-ocr"
      ]
    },
    {
      "cell_type": "code",
      "execution_count": 4,
      "metadata": {
        "id": "pvhGsofpU6oZ"
      },
      "outputs": [],
      "source": [
        "import pytesseract\n",
        "from PIL import Image\n",
        "import os"
      ]
    },
    {
      "cell_type": "code",
      "execution_count": 12,
      "metadata": {
        "id": "ZEgYguz-TM8h"
      },
      "outputs": [],
      "source": [
        "\n",
        "\n",
        "# Load the image\n",
        "img = Image.open('/content/drive/MyDrive/CV_Lisa_GAILLARD_2023.pdf.png')\n",
        "\n"
      ]
    },
    {
      "cell_type": "code",
      "execution_count": 7,
      "metadata": {},
      "outputs": [
        {
          "name": "stdout",
          "output_type": "stream",
          "text": [
            "pdf to images/00a912de-a7e7-4a34-af1d-6388dd24d56a.pdf.png 1\n",
            "pdf to images/00fa8c74-0431-4bd9-a2af-769e1f1c20fa.pdf.png 2\n",
            "pdf to images/0299204f-d8b4-44fc-a1fd-ab39e83ccbc9.pdf.png 3\n",
            "pdf to images/039c9f13-d59d-455f-931c-ed4f22536824.pdf.png 4\n",
            "pdf to images/049538da-0ed5-4dd2-adcf-06884614250a.pdf.png 5\n",
            "pdf to images/04a1552f-f7a2-492a-969c-1c262d349419.pdf.png 6\n",
            "pdf to images/0549f141-a03a-41e4-aa1b-8d3a11b5197c.pdf.png 7\n",
            "pdf to images/064cfcea-4081-407b-8a5c-2115cbb9841f.pdf.png 8\n",
            "pdf to images/068bd569-0c3a-4b62-891c-f48a38c2dc0b.pdf.png 9\n",
            "pdf to images/06d5aedf-99ce-4051-aa85-e1325431adaa.pdf.png 10\n",
            "pdf to images/0753d94e-8f5b-44d4-9df8-08e1e1b3130e.pdf.png 11\n",
            "pdf to images/07559396-da76-4840-88d3-579092b52ec1.pdf.png 12\n",
            "pdf to images/0755b063-77a0-45e4-9c29-bf71f336230a.pdf.png 13\n",
            "pdf to images/075d087c-ef80-4335-a604-3b9490b27ed7.pdf.png 14\n",
            "pdf to images/078c661d-c5d8-42e8-860e-51885647ea27.pdf.png 15\n",
            "pdf to images/095580fa-b9d2-4757-8dbd-c2d7d3eeaf21.pdf.png 16\n",
            "pdf to images/0ae90205-674b-4584-9c7b-4eb4f77042dc.pdf.png 17\n",
            "pdf to images/0bc8365f-18b5-4ddf-848b-03c724b9e2da.pdf.png 18\n",
            "pdf to images/0bf5c69a-9732-435a-859b-5bea70c0ea9b.pdf.png 19\n",
            "pdf to images/0cf3be31-db56-419f-90aa-0b9a81fafff2.pdf.png 20\n",
            "pdf to images/0d174f2d-ad86-4094-8d83-1a183df3b248.pdf.png 21\n",
            "pdf to images/0de494e8-0256-4edf-8d2f-94541700c857.pdf.png 22\n",
            "pdf to images/0e7174a9-3cd6-464a-ba65-8468ecf6b82d.pdf.png 23\n",
            "pdf to images/0ea9bec1-a3da-4923-a17c-dd16a4a37b52.pdf.png 24\n",
            "pdf to images/0ebb8fd6-fab6-41f6-b973-727009ca6bd3.pdf.png 25\n",
            "pdf to images/0effe5aa-b18f-4111-b658-45aff4670dda.pdf.png 26\n",
            "pdf to images/1003c786-bd13-416e-bb38-cbfe787b7841.pdf.png 27\n",
            "pdf to images/1196bc1a-cec3-4ac6-8615-3c5407ff44d9.pdf.png 28\n",
            "pdf to images/12146d39-0be7-4280-809a-aebb38f96208.pdf.png 29\n",
            "pdf to images/123416c3-725f-41d5-9884-2ad7bb5986c9.pdf.png 30\n",
            "pdf to images/128bc15b-ac03-43c2-b956-1635bff91da1.pdf.png 31\n",
            "pdf to images/12b13d55-d6ff-4eee-b52a-b75c3de86b76.pdf.png 32\n",
            "pdf to images/130a21cd-315e-4a25-b7f1-f02ca01cbec1.pdf.png 33\n",
            "pdf to images/1347c2b5-5946-4c8f-8c64-33186bd7196c.pdf.png 34\n",
            "pdf to images/136950dd-211b-44d2-931d-ba14f7c52817.pdf.png 35\n",
            "pdf to images/136a65ab-bb98-4fea-a834-ec8c53fe9808.pdf.png 36\n",
            "pdf to images/136f9548-d55d-46ea-b5ab-1be095d9dd43.pdf.png 37\n",
            "pdf to images/1413cf8b-9c3a-44ef-b698-fb0784325e89.pdf.png 38\n",
            "pdf to images/14af1825-32da-446e-a3bc-356dacaeb78d.pdf.png 39\n",
            "pdf to images/15193e86-50ad-4a55-9773-602085df3a69.pdf.png 40\n",
            "pdf to images/15e4813d-10da-4a56-819a-b473fb9b5d86.pdf.png 41\n",
            "pdf to images/174c9c37-2945-48f0-b4e7-2d01bdd7299a.pdf.png 42\n",
            "pdf to images/1815ab26-bc57-498d-b41d-23449a22ffa2.pdf.png 43\n",
            "pdf to images/189592a2-1039-44c1-9082-f02d0e3b8eaf.pdf.png 44\n",
            "pdf to images/1a72f3d7-bb74-40f6-bf3a-c0df44ae8f47.pdf.png 45\n",
            "pdf to images/1aba3254-7619-4023-b8c9-1b257ddd1f69.pdf.png 46\n",
            "pdf to images/1b6f87fc-daf1-4775-93e6-6c96513402fd.pdf.png 47\n",
            "pdf to images/1c89e703-136f-4f20-a16b-8f3e2e0689d0.pdf.png 48\n",
            "pdf to images/1d2ed2cd-e2b2-4634-b6a7-a2ed706c1d29.pdf.png 49\n",
            "pdf to images/1dbf4497-f0a0-4aae-b64e-f45fecbfd6fd.pdf.png 50\n",
            "pdf to images/1de50788-2a0a-4254-884f-de1b5106ff45.pdf.png 51\n",
            "pdf to images/1e468dbd-4bf0-49a4-abae-4762ce8830b5.pdf.png 52\n",
            "pdf to images/1fbe5550-65e8-451c-a4d5-703ae0e8068d.pdf.png 53\n",
            "pdf to images/1fcb5faa-8f1b-4e86-8783-f28c69fc6e32.pdf.png 54\n",
            "pdf to images/200dc18a-08c3-4027-93db-4ece0d4a47cb.pdf.png 55\n",
            "pdf to images/2088efcb-a424-4490-b40f-9a2204b04d9f.pdf.png 56\n",
            "pdf to images/20bd6105-1fc7-49f6-82d0-e673fa3bea91.pdf.png 57\n",
            "pdf to images/20c1805b-b023-49bd-a42e-a0bafc9a277d.pdf.png 58\n",
            "pdf to images/20c7920a-b50f-4f4d-8b2e-24a78be363bc.pdf.png 59\n",
            "pdf to images/20d03327-036a-44d0-904c-5c165805f67d.pdf.png 60\n",
            "pdf to images/2166c84d-5cf9-4531-931e-3326a846bc20.pdf.png 61\n",
            "pdf to images/21be974a-50d1-4e6a-b2fa-9ebec2e969fb.pdf.png 62\n",
            "pdf to images/21f2c2ff-3b44-492b-acd4-bd77c6437888.pdf.png 63\n",
            "pdf to images/2236cc39-fe07-4c35-84f6-e62f22ce39dc.pdf.png 64\n",
            "pdf to images/2323fa7d-2540-4709-b568-c0271b412491.pdf.png 65\n",
            "pdf to images/241e6b02-7306-48bc-98a1-38a6b4a41850.pdf.png 66\n",
            "pdf to images/2479890b-ac42-40e1-9774-bcc0288a946f.pdf.png 67\n",
            "pdf to images/2556d53d-a63f-49f2-b6fa-8330a5741324.pdf.png 68\n",
            "pdf to images/25a6d4b1-2e1a-4175-bc8d-853c78618a5e.pdf.png 69\n",
            "pdf to images/2657fe98-1646-44ac-b82d-2352c6c3c1ea.pdf.png 70\n",
            "pdf to images/267d4e78-558a-490c-8144-a740258010d3.pdf.png 71\n",
            "pdf to images/27ba3398-384c-4e69-9f32-942eab548de5.pdf.png 72\n",
            "pdf to images/27baad15-1731-4e7b-8894-65c44fc3443e.pdf.png 73\n",
            "pdf to images/2826cd88-b224-4b38-b5ad-febbb821dd8b.pdf.png 74\n",
            "pdf to images/287363b3-e07a-4dc2-b62a-1a9eb97aba6c.pdf.png 75\n",
            "pdf to images/28a58e9c-5527-4ff2-899e-922cde648f50.pdf.png 76\n",
            "pdf to images/28c071d3-d00c-4876-b632-d7e1a3deee6e.pdf.png 77\n",
            "pdf to images/28ded5a1-d98b-41fd-9a08-a650aff91f93.pdf.png 78\n",
            "pdf to images/28f6d7fa-82b3-4433-a8ca-de7926daebda.pdf.png 79\n",
            "pdf to images/29a1a6da-7266-44fb-938b-bbe793c4590a.pdf.png 80\n",
            "pdf to images/29aac2c3-fb3a-429e-9c23-5f0745d12869.pdf.png 81\n",
            "pdf to images/29d1104e-b02a-48b7-af08-3df92495c4f7.pdf.png 82\n",
            "pdf to images/29d4865a-310c-4509-a333-659ba219715f.pdf.png 83\n",
            "pdf to images/2a45dea7-9de7-4cbd-a7f6-ffe99ea5ea83.pdf.png 84\n",
            "pdf to images/2a8544a8-ebfa-477e-b808-be760a8ae43a.pdf.png 85\n",
            "pdf to images/2b8d26a5-d353-47b9-8c7e-b2d5e71e9542.pdf.png 86\n",
            "pdf to images/2c0343a2-2aa2-4817-b39d-daaf5b8de843.pdf.png 87\n",
            "pdf to images/2d0a3b9c-f398-4092-931b-7058b9a1b8e9.pdf.png 88\n",
            "pdf to images/2d0f46fd-6e53-427e-a650-1ab7a14785a4.pdf.png 89\n",
            "pdf to images/2d391930-d9ad-4562-ad93-d1c5f7916f97.pdf.png 90\n",
            "pdf to images/2d4a5f3a-69be-4fb9-a81a-62822cfb2f40.pdf.png 91\n",
            "pdf to images/2e817410-73dd-49fb-92c1-6758661c4dbc.pdf.png 92\n",
            "pdf to images/2e927b8a-0113-48f7-aaf0-dcccc321ca0a.pdf.png 93\n",
            "pdf to images/2ee1a66e-a553-40c1-bd21-ad966ea4d846.pdf.png 94\n",
            "pdf to images/2eea0f04-5fa7-4c4e-b993-7e6403bce51e.pdf.png 95\n",
            "pdf to images/2f7fb898-3efc-4f95-a8e4-494f1cfb024d.pdf.png 96\n",
            "pdf to images/2f8adaf2-7b74-4fef-ae02-d9792f4d9043.pdf.png 97\n",
            "pdf to images/2feee4f7-7ac6-4360-98e7-b126570d3da8.pdf.png 98\n",
            "pdf to images/30ff423b-429f-4272-baba-3e2667895edd.pdf.png 99\n",
            "pdf to images/31b91ea9-2eb2-4a5d-a762-e3b10c661c9d.pdf.png 100\n",
            "pdf to images/3221464d-30e2-424b-9600-dcf23241ddaf.pdf.png 101\n",
            "pdf to images/32b0d120-801c-41b4-9983-2b275f00bf59.pdf.png 102\n",
            "pdf to images/3328f9b4-7ed2-4e15-9d83-c0b6f96946f6.pdf.png 103\n",
            "pdf to images/3380b4f1-8509-4bcc-b387-bc935c67c764.pdf.png 104\n",
            "pdf to images/33a24d2d-1b81-4d00-a18f-4c5859691402.pdf.png 105\n",
            "pdf to images/34c527ae-1bc0-4c0d-8ffe-88e4d0b93ed0.pdf.png 106\n",
            "pdf to images/354e5093-bf21-487b-b914-648b17d0da15.pdf.png 107\n",
            "pdf to images/35634092-89bb-44b2-b9c9-2551f3d7d71d.pdf.png 108\n",
            "pdf to images/359cc33c-a115-4022-b8d2-2b70557de113.pdf.png 109\n",
            "pdf to images/35c11fc2-c7e7-47c5-aa84-eaeb849fd05c.pdf.png 110\n",
            "pdf to images/35df20b1-23fc-42c2-9e67-352809b4ff93.pdf.png 111\n",
            "pdf to images/362aa88c-d930-4bf2-a6b0-37b342a90650.pdf.png 112\n",
            "pdf to images/364579f8-0ab5-4adb-9b45-90b441ad95e4.pdf.png 113\n",
            "pdf to images/36c428cd-632c-4e77-8807-f41665ade238.pdf.png 114\n",
            "pdf to images/37432c61-82b8-436d-bff9-fcffb8c83057.pdf.png 115\n",
            "pdf to images/3838279d-21fa-4384-bc0f-ec5949429ac5.pdf.png 116\n",
            "pdf to images/3859b40a-0dff-473b-bf4e-3382953e2bff.pdf.png 117\n",
            "pdf to images/38ebc4a2-da8a-44fb-b66c-debc6bfad386.pdf.png 118\n",
            "pdf to images/394038b6-8e77-4a32-9317-be3e2b505599.pdf.png 119\n",
            "pdf to images/399aa786-71ab-40ab-a43f-f2364c5a41fe.pdf.png 120\n",
            "pdf to images/39bd155d-5959-4062-a15d-c517c335068d.pdf.png 121\n",
            "pdf to images/3a324a7c-6aa0-47c1-8440-945cf50a3ba1.pdf.png 122\n",
            "pdf to images/3afc3dd5-9da4-4272-a7a3-c6ab7c86189d.pdf.png 123\n",
            "pdf to images/3c6dbbab-609f-464d-944c-a2a9145e45eb.pdf.png 124\n",
            "pdf to images/3e1055e4-287b-4354-917e-30eb68de3622.pdf.png 125\n",
            "pdf to images/3e2182e1-c0e5-4409-8be6-71f134557325.pdf.png 126\n",
            "pdf to images/3f907356-c8d7-4288-9c12-6cc215a4baa1.pdf.png 127\n",
            "pdf to images/3f948efb-fc4d-4d58-b51f-6a7160692410.pdf.png 128\n",
            "pdf to images/3fe1f88d-1ddb-46c5-acdd-b8d34369e0d7.pdf.png 129\n",
            "pdf to images/3ff3af36-8979-4528-96dc-ac3203fbe61e.pdf.png 130\n",
            "pdf to images/4035feca-88a9-4a71-8343-f0ac95f1d5ac.pdf.png 131\n",
            "pdf to images/406fa7e1-fcb8-49f9-bfeb-1cfb2b7df0bd.pdf.png 132\n",
            "pdf to images/410e121b-f8f3-4f0a-ba2d-990f5073940b.pdf.png 133\n",
            "pdf to images/41869105-377d-4702-afed-72a9bd633559.pdf.png 134\n",
            "pdf to images/4214ab4c-0755-46df-851c-628e8f330d87.pdf.png 135\n",
            "pdf to images/4231a5c1-90d1-4b82-b913-5ffb879319df.pdf.png 136\n",
            "pdf to images/4253af19-8d88-4cf1-b93c-3ca4dea14d7d.pdf.png 137\n",
            "pdf to images/437fdc91-977b-479b-b949-a77841d84b9f.pdf.png 138\n",
            "pdf to images/43fe7eeb-5efd-4751-9f98-c0583eb6f272.pdf.png 139\n",
            "pdf to images/4461b418-9bf3-4ef2-b3f2-3ab4a3410a0d.pdf.png 140\n",
            "pdf to images/44e25d53-80a3-4466-9598-057c5053c6d1.pdf.png 141\n",
            "pdf to images/44e4f4b0-65b3-4ebe-8177-1418c6bd53a2.pdf.png 142\n",
            "pdf to images/469a462c-75a0-48df-bb9e-d206bb698afc.pdf.png 143\n",
            "pdf to images/46aa3db4-4213-4692-9312-e33dc1dd813b.pdf.png 144\n",
            "pdf to images/470a3f67-c5bc-4ba6-8d2c-93765caf1d7a.pdf.png 145\n",
            "pdf to images/47c293fe-2268-489c-bd24-79b682a03255.pdf.png 146\n"
          ]
        }
      ],
      "source": [
        "directory = f'pdf to images'\n",
        "i = 0\n",
        "for filename in os.listdir(directory):\n",
        "    i = i + 1\n",
        "    file = os.path.join(directory, filename)\n",
        "    #checking if file exist\n",
        "    if os.path.isfile(file):\n",
        "        print(file, i)\n",
        "        img = Image.open(file)\n",
        "        text = pytesseract.image_to_string(img)\n",
        "        \n",
        "        with open(f'{file}.txt', 'w') as file:\n",
        "            file.write(text)\n",
        "        file.close()\n",
        "        "
      ]
    },
    {
      "cell_type": "code",
      "execution_count": 13,
      "metadata": {
        "id": "pN6w7aBMU-vX"
      },
      "outputs": [],
      "source": [
        "# Perform OCR\n",
        "text = pytesseract.image_to_string(img)\n",
        "\n"
      ]
    },
    {
      "cell_type": "code",
      "execution_count": 14,
      "metadata": {
        "colab": {
          "base_uri": "https://localhost:8080/"
        },
        "id": "uDssX3E1VEl9",
        "outputId": "e679de15-e712-4026-fa58-314ccea6ae1f"
      },
      "outputs": [
        {
          "name": "stdout",
          "output_type": "stream",
          "text": [
            " \n",
            "\n",
            "Lisa GAILLARD\n",
            "\n",
            "PROFIL &\n",
            "\n",
            "    \n",
            "   \n",
            " \n",
            "\n",
            "FORMATION\n",
            "\n",
            "(2020- ) CYCLE INGENIEUR - MAJEURE BUSINESS INTELLIGENCE\n",
            "EFREI PARIS (94)\n",
            "Boot camp : apprentissage intensif sur la data science pendant 5 semaines\n",
            "\n",
            "(2018-2020) PREPA INTEGREE SECTION INTERNATIONALE\n",
            "\n",
            "EFREI PARIS (94)\n",
            "\n",
            "Membre de la conférence des Grandes Ecoles, dipl6me habilite par la\n",
            "Commission des titres d'ingenieur\n",
            "\n",
            "Cours presentes exclusivement en Anglais\n",
            "\n",
            "(2015-2018) BACCALAUREAT — MENTION TRES BIEN\n",
            "LYCEE DESCARTES (78)\n",
            "Option Chinois LV3, Spécialite Mathematiques\n",
            "\n",
            "PROJETS ACADEMIQUES\n",
            "\n",
            "PROJET DATA SCIENCE : PROJET VOLTAIRE 2.0\n",
            "\n",
            "Python, MySQL\n",
            "\n",
            "Analyse automatique de code via une IA capable de dire si un code\n",
            "donne a la bonne syntaxe ou s'il produit une erreur sans meme le lancer\n",
            "\n",
            "PROJET TRANSVERSE : SAFEWAY\n",
            "\n",
            "Java, MySQL\n",
            "\n",
            "Application Android calculant litinéraire le plus seécurisé entre deux\n",
            "localisations en fonction de l'affluence et de la luminosite\n",
            "\n",
            "EXPERIENCES PROFESSIONNELLES\n",
            "\n",
            "STAGE TECHNIQUE | ELEVE CAPITAL - Novembre 2021 / Mars 2022\n",
            "Automatisation d'opérations (Power automate, script python)\n",
            "Realisation de tableaux de bord (Dash, PowerBl)\n",
            "\n",
            "Elaboration de modeles d'analyses (statistiques, machine Learning)\n",
            "\n",
            "STAGE COMMERCIAL | DARTY - Janvier 2020\n",
            "Accueillir et conseiller les clients\n",
            "Argumentation, autonomie, communication\n",
            "\n",
            "STAGE D'EXECUTION | GEOTEC - Juin 2019\n",
            "Redaction et traduction de documents, mise a jour de bases de donnees\n",
            "Redaction, traduction, utilisation du pack office\n",
            "\n",
            "OBJECTIFS\n",
            "\n",
            "Etudiante ingénieure en 5° année,\n",
            "specialisée en Business Intelligence.\n",
            "\n",
            "Dynamique, sérieuse et organisee,\n",
            "recherche un stage technique de fin\n",
            "d'études en data science a partir\n",
            "d'Avril 2023\n",
            "\n",
            "LANGUES\n",
            "\n",
            "FRANCAIS : Langue maternelle\n",
            "ANGLAIS : Niveau professionnel\n",
            "\n",
            "(TOEIC : 980/990)\n",
            "ESPAGNOL : Niveau B1\n",
            "CHINOIS : Notions\n",
            "\n",
            "COMPETENCES\n",
            "\n",
            "PYTHON (Numpy, Pandas, Matplotlib,\n",
            "Scikit-Learn, Keras, Dash)\n",
            "\n",
            "MYSQL, POSTGRESQL, ORACLE, SPARQL\n",
            "Notions sur POWER BI\n",
            "\n",
            "Notions de JAVA, C, C++\n",
            "\n",
            "UML\n",
            "\n",
            "DEVELOPPEMENT WEB (HTML, CSS)\n",
            "\n",
            "Maitrise du pack office\n",
            "\n",
            "SAVOIR-ETRE\n",
            "RIGOUREUSE\n",
            "IMPLIQUEE\n",
            "ORGANISEE\n",
            "AUTONOME\n",
            "\n",
            "CENTRES D’INTERET\n",
            "PIANO (depuis 2006)\n",
            "\n",
            "BADMINTON en competition (depuis 2012)\n",
            "CINEMA, SERIE TV, JEUX VIDEO\n",
            "LECTURE (science-fiction, policier)\n",
            "VOYAGE : USA, Croatie, Bali, Maroc,\n",
            "\f\n"
          ]
        }
      ],
      "source": [
        "# Print the recognized text\n",
        "print(text)"
      ]
    }
  ],
  "metadata": {
    "colab": {
      "provenance": []
    },
    "gpuClass": "standard",
    "kernelspec": {
      "display_name": "Python 3",
      "name": "python3"
    },
    "language_info": {
      "codemirror_mode": {
        "name": "ipython",
        "version": 3
      },
      "file_extension": ".py",
      "mimetype": "text/x-python",
      "name": "python",
      "nbconvert_exporter": "python",
      "pygments_lexer": "ipython3",
      "version": "3.8.10"
    }
  },
  "nbformat": 4,
  "nbformat_minor": 0
}
