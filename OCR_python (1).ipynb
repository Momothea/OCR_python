 

 

Moise Iloo Liandja

 

06/03/1999 (23 ans)
Ey Villejuif (94)
M moise.iloo.liandja@efrei.net
07 67 35 46 79
fia] https://www.linkedin.com/in/moise-iloo

 

 

 

OQ Momothea (github.com)

 

 

 

{®

Co

NA
VAN

COMPETENCES IT

Langages de Programmation :

C/C++, Python (Numpy, Pandas, Matplotlib,
Scikit-learn, OpenCV, streamlit, Tensorflow,
Spacy, Venv, Flask), C#, Java, Scala,
MATLAB, JavaScript, HTML5, CSS, SQL, R

Logiciels et outils :

Jupyter Notebook, google colaboratory,
Suite Office (Word, Excel, PPT), Bootstrap,
Vue.JS, Express.JS, Node.JS, REACT.JS,
MySQL, ORACLE SQL DEVELOPER, POWER
BI, Databricks, Apache (Hadoop, Hive,
Spark) Anaconda, Git, MongoDB, Microsoft
Azure, Jenskins, Amazon Web Services

SOFT SKILLS

Adaptabilité, Bon relationnel, Curiosité
LANGUES

Anglais - Niveau Avancé (C1) /

Score TOEIC : 920/990
Espagnol - Niveau Elémentaire (A1)

CENTRES D'INTERET
Sport :

* Course a pied (course sur de longue
distance)
Loisirs :

* Electronique (programmation arduino)

* Jeux vidéo (RPG, FPS, story driven
games)

* Lecture (dernier livres : Mémoires
vives, Brave new world)

Actuellement étudiant en M2 Data & Artificial intelligence

Je suis a la recherche d’un stage de fin d'études pour Avril 2023

PROFIL

Passionné par les mathématiques et la programmation. Je cherche une
entreprise dynamique, innovante qui pourra continuer de me former et au
sein de laquelle je pourrais également mettre a profit mes compétences.

FORMATION
2022-2023 : Cycle Master 2° année (M2) Data & Artificial intelligence
<> Programme de formation : Machine Learning in production
& ~  (MLOps) ; Deep Learning ; Data Management ; Big Data
Processing ; Mobile development ; Reinforcement Learning
2021-2022 : Cycle Master 1'° année (M1) Data & Artificial intelligence
Programme de formation : Machine Learning ; Applied
\ Statistics ; Data visualization ; Big Data Frameworks ; Data
structuring and NoSQL databases ; Distributed Algorithms
2020-2021 : Cycle Licence 3° année (L3)
Efrei Paris.
2018-2020 : Cycle préparatoire intégré (L1& L2)
Efrei Paris.

2017-2018 : Cycle préparatoire 1'° année
ESSCA Angers, école de commerce.

EXPERIENCES PROFESSIONNELLES

FURTIVE CAMERAS SYSTEMS LLC : Start-up | 12 semaines (janvier - avril
2022)

(Vancouver USA)
Start-up réalisant des caméras intelligentes pour la vidéosurveillance a
domicile.

* Réalisation d’un algorithme de détection et reconnaissance faciale.

* Création d'une application Android permettant de piloter une caméra.

* Lecture de différents papiers de recherche afin d’améliorer I’algorithme
dans le futur.

PROJETS ACADEMIQUES
Master project de Master 1 : Safechild | 2022

Equipe de 8 étudiants : service permettant de surveiller l'activité des enfants
sur les réseaux sociaux et d’avertir les parents en cas de messages
problématiques ou inappropriées.

* Outils et technologies utilisés : Python (Spacy, nltk, Sklearn, Flask, stmp,
snscrape), MongoDB, React JS, Tensorflow

Mastercamp de 5 semaines (juin-juillet 2021)
Equipe de 6 étudiants : réalisation d'une application de traitement d'image
afin de repérer des déchets plastiques dans un cours d'eau.

* Outils et technologies utilisés : Tensorflow, Keras, ResNet50, Django,
Tensorflow object detection api.

Projet transverse L3 : E-fruit | 2020-2021

Equipe de 4 étudiants : application Web permettant la reconnaissance de

fruits et legumes pour faire gagner du temps aux clients.

* Outils et technologies utilisés : le réseau neural AlexNet (reconfigurer au
préalable), Matlab, Node.JS, Vue.JS, CSS, HTML, JavaScript.

https://github.com/Momothea/e-fruit.git

